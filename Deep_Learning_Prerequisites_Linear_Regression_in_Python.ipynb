{
  "nbformat": 4,
  "nbformat_minor": 0,
  "metadata": {
    "colab": {
      "name": " Deep Learning Prerequisites: Linear Regression in Python.ipynb",
      "provenance": [],
      "authorship_tag": "ABX9TyMVdi4+CuBgZglfaE1n8Tde",
      "include_colab_link": true
    },
    "kernelspec": {
      "name": "python3",
      "display_name": "Python 3"
    },
    "language_info": {
      "name": "python"
    }
  },
  "cells": [
    {
      "cell_type": "markdown",
      "metadata": {
        "id": "view-in-github",
        "colab_type": "text"
      },
      "source": [
        "<a href=\"https://colab.research.google.com/github/OsamaAbuSitta/AngularVSExtension/blob/master/Deep_Learning_Prerequisites_Linear_Regression_in_Python.ipynb\" target=\"_parent\"><img src=\"https://colab.research.google.com/assets/colab-badge.svg\" alt=\"Open In Colab\"/></a>"
      ]
    },
    {
      "cell_type": "code",
      "metadata": {
        "id": "x8Krs4ri11vA"
      },
      "source": [
        "import numpy as np\n",
        "from matplotlib import pyplot as plt\n",
        "import pandas as pd"
      ],
      "execution_count": 24,
      "outputs": []
    },
    {
      "cell_type": "code",
      "metadata": {
        "id": "4tnXkbWZ2m2y"
      },
      "source": [
        "# load the data \n",
        "X = []\n",
        "Y = []\n",
        "data_url = 'https://raw.githubusercontent.com/csawtelle/udemy-machine-learning-examples/master/linear_regression_class/data_1d.csv'\n",
        "data = pd.read_csv(data_url,header=None)\n",
        "\n",
        "for x in data[0]:\n",
        "  X.append(float(x))\n",
        "\n",
        "for y in data[1]:\n",
        "  Y.append(float(y))\n",
        "\n",
        "\n",
        "# let's turn X and Y into numpy arrays\n",
        "X = np.array(X)\n",
        "Y = np.array(Y)"
      ],
      "execution_count": null,
      "outputs": []
    },
    {
      "cell_type": "code",
      "metadata": {
        "colab": {
          "base_uri": "https://localhost:8080/",
          "height": 265
        },
        "id": "m3bBo20u46tj",
        "outputId": "792c53f2-947e-491b-8578-8e6501aaac00"
      },
      "source": [
        "# plot to see\n",
        "plt.scatter(X,Y)\n",
        "plt.show()"
      ],
      "execution_count": 25,
      "outputs": [
        {
          "output_type": "display_data",
          "data": {
            "image/png": "[encoded data removed]",
            "text/plain": [
              "<Figure size 432x288 with 1 Axes>"
            ]
          },
          "metadata": {
            "needs_background": "light"
          }
        }
      ]
    }
  ]
}